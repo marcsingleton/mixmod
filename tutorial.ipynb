{
 "cells": [
  {
   "cell_type": "markdown",
   "id": "00f19360",
   "metadata": {},
   "source": [
    "# MixMod Tutorial\n",
    "\n",
    "Welcome to the MixMod tutorial! Here we'll go over the basic functionality of MixMod. It's a small package, so the explanation of the MixtureModel class will be brief and will largely focus on formatting the inputs correctly. (Mixture models are relatively parameter-rich, so the syntax for properly specifying all the components can be a little verbose!) The first portion of this tutorial is a brief introduction to mixture models, their use cases, and why parameter inference is a hard problem, so feel free to skip to the second section if you're already familiar with mixture model theory.\n",
    "\n",
    "## 1 Mixture Model Theory\n",
    "\n",
    "### 1.1 What are mixture models and what are they good for?\n",
    "\n",
    "Unlike in introductory statistics courses where the data are typically clean examples of a single distribution, real data are messy. They contain outliers, missing values, and may represent the result of multiple overlapping random processes. One common example is a \"bimodal\" distribution of exam scores where there are two groups of students, those who understood the material and those who didn't. As an instructor, we'll likely want to calculate the means within groups and give students different instruction depending on whether we think they understood the previous material. In other words, we want to 1) understand the statistical properties of each group and 2) assign observations to these groups. More formally, these two goals are parameter estimation and class inference, and they are the major applications of mixture models. If the observations were labeled with their classes, these calculations would be trivial. The challenge is class labels are typically hidden in real-world data, so the observations from different classes are jumbled together. In most cases, class labels don't even exist since the mixture model is a statistical formalism rather than an accurate representation of the underlying data generation process. (This idea that statistical models which fall short of fully describing reality can still provide valuable insights is commonly expressed as the adage \"All models are wrong, but some are useful.\")\n",
    "\n",
    "### 1.2 A formal definition\n",
    "\n",
    "Let's now give a more formal definition of mixture models (which is adapted from [Wikipedia](https://en.wikipedia.org/wiki/Mixture_model)). A mixture model consists of the following components:\n",
    "\n",
    "- A set of $K$ mixture components, each of which is a probability distribution.\n",
    "- A set of $K$ parameters, each specifying the parameters of its corresponding mixture component. In many cases, each \"parameter\" is actually a set of parameters. For example, if the mixture components are normal distributions, each component will have a mean and variance.\n",
    "- A set of $K$ mixture weights, which are probabilities that sum to 1.\n",
    "\n",
    "The probability density function for a mixture model evaluated at $x_i$ is given by\n",
    "\n",
    "$$\n",
    "f(x_i) = \\sum_{k=1}^K \\phi_k f_k(x_i; \\theta_k)\n",
    "$$\n",
    "\n",
    "where $K$ is number of components, $\\phi_k$ is the weight, $f_k$ is the pdf, and $\\theta_k$ is the parameter set of each component.\n",
    "\n",
    "The above equation applies to a mixture model for an observation with an unknown class label. If the class label, $z_i$, is known, then the density function is given by\n",
    "\n",
    "$$\n",
    "f(x_i) = \\sum_{k=1}^K \\delta_{kz_i} \\phi_k f_k(x_i; \\theta_k)\n",
    "$$\n",
    "\n",
    "where $\\delta_{ij}$ is the Kronecker delta function.\n",
    "\n",
    "Since $\\delta_{ij} = 0$ when $i \\ne j$, this equation reduces to the distribution corresponding to the class of the observation.\n",
    "\n",
    "### 1.3 Fitting mixture models\n",
    "\n",
    "If the class labels are known, then some algebra using the above equation will show the overall likelihood for the data is maximized when the component likelihoods are maximized for the data corresponding to that component. This checks out intuitively. If we knew the class labels, then we could treat the components separately and choose the best parameters for each using only the observations from that component.\n",
    "\n",
    "When the class labels are not known, parameter inference is a different beast entirely. The problem is a little like a chicken or egg question. If we knew the class labels, then we could easily infer the component parameters. If we knew the component parameters, then we could infer the class labels (and in turn use those labels to infer the component parameters). This is very nearly estimation-maximization (EM), the algorithm that yields parameter estimates for statistical models with unobserved variables (like the class labels in mixture models). The basic idea is by alternating between assigning class labels to observations using the current parameter estimates and then using those class assignments to update the parameters, the parameters will eventually converge to a local maximum of the likelihood function. The actual procedure is a little more subtle than making hard class assignments for each observation, but the basic idea is very similar.\n",
    "\n",
    "The EM algorithm is highly flexible, so it is possible to implement the procedure for a generic mixture model. However, such an implementation would necessarily rely on general purpose numerical optimization routines, which can be somewhat finicky to use in practice. Thus, for both efficiency and robustness, this package limits the distributions to those where the EM equations are explicitly solved. More details are available in the section \"Creating mixtures of other distributions.\"\n",
    "\n",
    "## 2 The MixtureModel Class\n",
    "\n",
    "### 2.1 Importing the package and generating data\n",
    "\n",
    "With all that out of the way, let's introduce the MixMod package! First we need to import it and some supporting libraries."
   ]
  },
  {
   "cell_type": "code",
   "execution_count": 1,
   "id": "b4a2f4f3",
   "metadata": {},
   "outputs": [],
   "source": [
    "import matplotlib.pyplot as plt\n",
    "import mixmod\n",
    "import numpy as np\n",
    "import scipy.stats as stats"
   ]
  },
  {
   "cell_type": "markdown",
   "id": "eecca192",
   "metadata": {},
   "source": [
    "Now let's generate some data. We'll start with a simple mixture of two normal distributions. In the SciPy stats implementation, the mean and standard deviation are specified with the `loc` and `scale` parameters, respectively. This is standard practice within this module as well as in statistics more broadly. Distributions are often characterized by different, but related, parameters depending on the context. However, most of these can be expressed in a standard form as either a location or scale parameter. Location parameters shift the position of the distribution whereas scale parameters control the spread. Both of these have formal mathematical definitions which define these ideas precisely. The practical take-away, however, is the SciPy implementations of distributions express all location and scale parameters in their standard forms. These forms may differ from the conventional parameterizations, so be sure to read the documentation for each distribution thoroughly."
   ]
  },
  {
   "cell_type": "code",
   "execution_count": 2,
   "id": "c331d5eb",
   "metadata": {},
   "outputs": [],
   "source": [
    "rvs0 = stats.norm.rvs(loc=1, scale=1.25, size=400, random_state=1)\n",
    "rvs1 = stats.norm.rvs(loc=5, scale=0.75, size=100, random_state=2)\n",
    "rvs = np.concatenate([rvs0, rvs1])"
   ]
  },
  {
   "cell_type": "markdown",
   "id": "b70aabc4",
   "metadata": {},
   "source": [
    "We can visualize these distributions separately. We'll manually set the bins, so the two histograms are drawn on the same intervals."
   ]
  },
  {
   "cell_type": "code",
   "execution_count": 3,
   "id": "66e31b60",
   "metadata": {},
   "outputs": [
    {
     "data": {
      "image/png": "[encoded data removed]",
      "text/plain": [
       "<Figure size 432x288 with 1 Axes>"
      ]
     },
     "metadata": {
      "needs_background": "light"
     },
     "output_type": "display_data"
    }
   ],
   "source": [
    "bins = np.linspace(rvs.min(), rvs.max(), num=50)\n",
    "plt.hist(rvs0, bins=bins, color='C0')\n",
    "plt.hist(rvs1, bins=bins, color='C1');"
   ]
  },
  {
   "cell_type": "markdown",
   "id": "7b3b1fcf",
   "metadata": {},
   "source": [
    "Usually, however, the observations from the two components are mixed together."
   ]
  },
  {
   "cell_type": "code",
   "execution_count": 4,
   "id": "9caee3b6",
   "metadata": {},
   "outputs": [
    {
     "data": {
      "image/png": "[encoded data removed]",
      "text/plain": [
       "<Figure size 432x288 with 1 Axes>"
      ]
     },
     "metadata": {
      "needs_background": "light"
     },
     "output_type": "display_data"
    }
   ],
   "source": [
    "plt.hist(rvs, bins=bins, facecolor='white', edgecolor='black');"
   ]
  },
  {
   "cell_type": "markdown",
   "id": "ed6db9c9",
   "metadata": {},
   "source": [
    "Clearly the overall distribution is bimodal, but the division between the two components isn't immediately obvious, even in a simple case like this. Let's now use a `MixtureModel` to try to extract the parameters.\n",
    "\n",
    "### 2.2 Instantiating a MixtureModel and plotting its pdf\n",
    "\n",
    "The easiest way of instantiating a `MixtureModel` is by simply passing a list of SciPy stats distributions."
   ]
  },
  {
   "cell_type": "code",
   "execution_count": 5,
   "id": "7d9f78eb",
   "metadata": {},
   "outputs": [
    {
     "data": {
      "text/plain": [
       "MixtureModel(components=['norm', 'norm'],\n",
       "             params=[{}, {}],\n",
       "             params_fix=[{}, {}],\n",
       "             weights=[0.5, 0.5],\n",
       "             name='mixture')"
      ]
     },
     "execution_count": 5,
     "metadata": {},
     "output_type": "execute_result"
    }
   ],
   "source": [
    "mixture = mixmod.MixtureModel([stats.norm, stats.norm])\n",
    "mixture"
   ]
  },
  {
   "cell_type": "markdown",
   "id": "cd82d278",
   "metadata": {},
   "source": [
    "This is the minimal amount of information needed, so most of the attributes of the instance are currently empty. Notice, however, the weights were set uniformly across components by default. Let's now make this mixture model more interesting by giving it some better initial parameters. It's not necessary to specify all the parameters for each component. Any parameters not defined in the `params` or `params_fix` dicts will use the default values specified by the distribution."
   ]
  },
  {
   "cell_type": "code",
   "execution_count": 6,
   "id": "eda6b654",
   "metadata": {},
   "outputs": [
    {
     "data": {
      "text/plain": [
       "MixtureModel(components=['norm', 'norm'],\n",
       "             params=[{'loc': 1}, {'loc': 5}],\n",
       "             params_fix=[{}, {}],\n",
       "             weights=[0.6, 0.4],\n",
       "             name='mixture')"
      ]
     },
     "execution_count": 6,
     "metadata": {},
     "output_type": "execute_result"
    }
   ],
   "source": [
    "mixture = mixmod.MixtureModel([stats.norm, stats.norm],\n",
    "                              params=[{'loc': 1}, {'loc': 5}],\n",
    "                              weights=[0.6, 0.4])\n",
    "mixture"
   ]
  },
  {
   "cell_type": "markdown",
   "id": "65fe6277",
   "metadata": {},
   "source": [
    "Let's look at how well the density function matches the histogram."
   ]
  },
  {
   "cell_type": "code",
   "execution_count": 7,
   "id": "7739065d",
   "metadata": {},
   "outputs": [
    {
     "data": {
      "image/png": "[encoded data removed]",
      "text/plain": [
       "<Figure size 432x288 with 1 Axes>"
      ]
     },
     "metadata": {
      "needs_background": "light"
     },
     "output_type": "display_data"
    }
   ],
   "source": [
    "x = np.linspace(rvs.min(), rvs.max(), 100)\n",
    "y = mixture.pdf(x)\n",
    "\n",
    "plt.hist(rvs, bins=bins, density=True, facecolor='white', edgecolor='black')\n",
    "plt.plot(x, y, color='black');"
   ]
  },
  {
   "cell_type": "markdown",
   "id": "2eb22cab",
   "metadata": {},
   "source": [
    "We can also extract the pdfs of the individual components and plot them separately."
   ]
  },
  {
   "cell_type": "code",
   "execution_count": 8,
   "id": "7e123dd2",
   "metadata": {},
   "outputs": [
    {
     "data": {
      "image/png": "[encoded data removed]",
      "text/plain": [
       "<Figure size 432x288 with 1 Axes>"
      ]
     },
     "metadata": {
      "needs_background": "light"
     },
     "output_type": "display_data"
    }
   ],
   "source": [
    "x = np.linspace(rvs.min(), rvs.max(), 100)\n",
    "y = mixture.pdf(x, component='all')\n",
    "\n",
    "plt.hist(rvs, bins=bins, density=True, facecolor='white', edgecolor='black')\n",
    "plt.plot(x, y[0], label='component 0', color='C0')\n",
    "plt.plot(x, y[1], label='component 1', color='C1')\n",
    "plt.legend(frameon=False, loc='center left', bbox_to_anchor=(1, 0.5));"
   ]
  },
  {
   "cell_type": "markdown",
   "id": "1f43f16d",
   "metadata": {},
   "source": [
    "### 2.3 Fitting a MixtureModel\n",
    "\n",
    "Our initial parameters aren't bad, but let's see if we can do a little better. We'll call `fit` on our data to optimize the parameters."
   ]
  },
  {
   "cell_type": "code",
   "execution_count": 9,
   "id": "e04c5c85",
   "metadata": {},
   "outputs": [
    {
     "data": {
      "text/plain": [
       "MixtureModel(components=['norm', 'norm'],\n",
       "             params=[{'loc': 1.075064120193221, 'scale': 1.2297761836368324}, {'loc': 4.951025549835546, 'scale': 0.7512261603391855}],\n",
       "             params_fix=[{}, {}],\n",
       "             weights=[0.8038979521998084, 0.19610204780019164],\n",
       "             name='mixture')"
      ]
     },
     "execution_count": 9,
     "metadata": {},
     "output_type": "execute_result"
    }
   ],
   "source": [
    "mixture.fit(rvs)\n",
    "mixture"
   ]
  },
  {
   "cell_type": "markdown",
   "id": "b62fc5ca",
   "metadata": {},
   "source": [
    "These new parameters look closer to their true values. You can also see each component has a `scale` parameter in its `params` dict now since they are now estimated from the data and not using the default values. Let's see if the pdfs match the histograms better."
   ]
  },
  {
   "cell_type": "code",
   "execution_count": 10,
   "id": "ef84f383",
   "metadata": {},
   "outputs": [
    {
     "data": {
      "image/png": "[encoded data removed]",
      "text/plain": [
       "<Figure size 432x288 with 1 Axes>"
      ]
     },
     "metadata": {
      "needs_background": "light"
     },
     "output_type": "display_data"
    }
   ],
   "source": [
    "x = np.linspace(rvs.min(), rvs.max(), 100)\n",
    "y = mixture.pdf(x, component='all')\n",
    "\n",
    "plt.hist(rvs, bins=bins, density=True, facecolor='white', edgecolor='black')\n",
    "plt.plot(x, y[0], label='component 0', color='C0')\n",
    "plt.plot(x, y[1], label='component 1', color='C1')\n",
    "plt.legend(frameon=False, loc='center left', bbox_to_anchor=(1, 0.5));"
   ]
  },
  {
   "cell_type": "markdown",
   "id": "9a322af4",
   "metadata": {},
   "source": [
    "### 2.4 Fitting a MixtureModel with fixed parameters\n",
    "\n",
    "One downside of this approach is all the parameters associated with each component are fit to the data. In some cases, we might have existing estimates for certain parameters that we want to stay constant. We can communicate this information to a `MixtureModel` by passing these parameters in the `params_fix` dicts. For example, let's say we're confident the `loc` parameter of the second component is 5, but we're unsure about the remaining parameters."
   ]
  },
  {
   "cell_type": "code",
   "execution_count": 11,
   "id": "4c73632f",
   "metadata": {},
   "outputs": [
    {
     "data": {
      "text/plain": [
       "MixtureModel(components=['norm', 'norm'],\n",
       "             params=[{}, {}],\n",
       "             params_fix=[{}, {'loc': 5}],\n",
       "             weights=[0.5, 0.5],\n",
       "             name='mixture')"
      ]
     },
     "execution_count": 11,
     "metadata": {},
     "output_type": "execute_result"
    }
   ],
   "source": [
    "mixture = mixmod.MixtureModel([stats.norm, stats.norm],\n",
    "                              params_fix=[{}, {'loc': 5}])\n",
    "mixture"
   ]
  },
  {
   "cell_type": "markdown",
   "id": "4bc9b6df",
   "metadata": {},
   "source": [
    "Notice that an empty dict is supplied for the first component, so the correspondence between components and dicts is unambiguous.\n",
    "\n",
    "When we plot the pdfs of the components, we can see they use their default parameters (`loc=1`, `scale=1`) for any parameters not given in `params` or `params_fix`."
   ]
  },
  {
   "cell_type": "code",
   "execution_count": 12,
   "id": "fda9cff8",
   "metadata": {},
   "outputs": [
    {
     "data": {
      "image/png": "[encoded data removed]",
      "text/plain": [
       "<Figure size 432x288 with 1 Axes>"
      ]
     },
     "metadata": {
      "needs_background": "light"
     },
     "output_type": "display_data"
    }
   ],
   "source": [
    "x = np.linspace(rvs.min(), rvs.max(), 100)\n",
    "y = mixture.pdf(x, component='all')\n",
    "\n",
    "plt.hist(rvs, bins=bins, density=True, facecolor='white', edgecolor='black')\n",
    "plt.plot(x, y[0], label='component 0', color='C0')\n",
    "plt.plot(x, y[1], label='component 1', color='C1')\n",
    "plt.legend(frameon=False, loc='center left', bbox_to_anchor=(1, 0.5));"
   ]
  },
  {
   "cell_type": "markdown",
   "id": "8ee805b0",
   "metadata": {},
   "source": [
    "Now let's fit the free parameters."
   ]
  },
  {
   "cell_type": "code",
   "execution_count": 13,
   "id": "2fb7fdda",
   "metadata": {},
   "outputs": [
    {
     "data": {
      "text/plain": [
       "MixtureModel(components=['norm', 'norm'],\n",
       "             params=[{'loc': 1.0902243856040947, 'scale': 1.2426261846440032}, {'scale': 0.7284102181034722}],\n",
       "             params_fix=[{}, {'loc': 5}],\n",
       "             weights=[0.8086240293915813, 0.19137597060841857],\n",
       "             name='mixture')"
      ]
     },
     "execution_count": 13,
     "metadata": {},
     "output_type": "execute_result"
    }
   ],
   "source": [
    "mixture.fit(rvs)\n",
    "mixture"
   ]
  },
  {
   "cell_type": "markdown",
   "id": "43cba437",
   "metadata": {},
   "source": [
    "As expected, the `loc` parameter of the second component has remained fixed at 5."
   ]
  },
  {
   "cell_type": "markdown",
   "id": "3d973cc1",
   "metadata": {},
   "source": [
    "### 2.5 Predicting class labels\n",
    "\n",
    "We'll now address the second major task of mixture models: inference of class labels. The `posterior` method returns a distribution across components for each observation."
   ]
  },
  {
   "cell_type": "code",
   "execution_count": 14,
   "id": "579e14a3",
   "metadata": {},
   "outputs": [
    {
     "data": {
      "text/plain": [
       "(2, 500)"
      ]
     },
     "execution_count": 14,
     "metadata": {},
     "output_type": "execute_result"
    }
   ],
   "source": [
    "posterior = mixture.posterior(rvs)\n",
    "posterior.shape"
   ]
  },
  {
   "cell_type": "markdown",
   "id": "0300a12b",
   "metadata": {},
   "source": [
    "Let's look at an individual observation and its posterior distribution."
   ]
  },
  {
   "cell_type": "code",
   "execution_count": 15,
   "id": "a09ce453",
   "metadata": {},
   "outputs": [
    {
     "name": "stdout",
     "output_type": "stream",
     "text": [
      "3.030431704579052\n",
      "[0.96589593 0.03410407]\n"
     ]
    }
   ],
   "source": [
    "print(rvs[0])\n",
    "print(posterior[:, 0])"
   ]
  },
  {
   "cell_type": "markdown",
   "id": "ebd9bcc9",
   "metadata": {},
   "source": [
    "This isn't the most intuitive way of visualizing the output, so we'll plot it a few different ways.\n",
    "\n",
    "We can first plot the posterior probability of a class by its position along the x-axis as a line graph."
   ]
  },
  {
   "cell_type": "code",
   "execution_count": 16,
   "id": "bafdc663",
   "metadata": {},
   "outputs": [
    {
     "data": {
      "image/png": "[encoded data removed]",
      "text/plain": [
       "<Figure size 432x288 with 2 Axes>"
      ]
     },
     "metadata": {
      "needs_background": "light"
     },
     "output_type": "display_data"
    }
   ],
   "source": [
    "x = np.linspace(rvs.min(), rvs.max(), 100)\n",
    "y = mixture.posterior(x)\n",
    "\n",
    "fig, ax1 = plt.subplots()\n",
    "ax2 = ax1.twinx()\n",
    "\n",
    "ax1.hist(rvs, bins=bins, density=True, facecolor='white', edgecolor='black')\n",
    "ax2.plot(x, y[0], color='C0', label='component 0')\n",
    "ax2.plot(x, y[1], color='C1', label='component 1')\n",
    "ax1.set_ylabel('Density')\n",
    "ax2.set_ylabel('Posterior probability')\n",
    "ax2.legend(ncol=2, loc='upper center', bbox_to_anchor=(0.5, -0.1), frameon=False);"
   ]
  },
  {
   "cell_type": "markdown",
   "id": "6b712a0f",
   "metadata": {},
   "source": [
    "We can plot the same information as a heatmap."
   ]
  },
  {
   "cell_type": "code",
   "execution_count": 17,
   "id": "f973d796",
   "metadata": {},
   "outputs": [
    {
     "data": {
      "image/png": "[encoded data removed]",
      "text/plain": [
       "<Figure size 432x288 with 2 Axes>"
      ]
     },
     "metadata": {
      "needs_background": "light"
     },
     "output_type": "display_data"
    }
   ],
   "source": [
    "aspect = 0.2  # Ratio of y-axis to x-axis in display units\n",
    "\n",
    "plt.imshow(y, vmin=0, vmax=1,\n",
    "           aspect=aspect*(x.max() - x.min()) / y.shape[0],\n",
    "           extent=[x.min(), x.max(), 0, y.shape[0]])\n",
    "plt.yticks([y + 0.5 for y in range(y.shape[0])], [f'component {y}' for y in range(y.shape[0])])\n",
    "plt.colorbar(location='bottom', orientation='horizontal');"
   ]
  },
  {
   "cell_type": "markdown",
   "id": "0febbafc",
   "metadata": {},
   "source": [
    "### 2.6 Creating mixtures of other distributions\n",
    "\n",
    "Obviously this package wouldn't be very useful if it was limited to fitting mixture models with only two normal components. Fortunately, it can fit an arbitrary number of components. Unfortunately, these components are limited to a relatively small subset of the distributions defined in SciPy stats, as the EM equations are explicitly solved for these distributions. This makes fitting the parameters more efficient and robust than if general purpose numerical optimization algorithms were used. The cost, however, is the types of distributions available are somewhat limited.\n",
    "\n",
    "We can view the supported distributions by examining the `mles` variable in `mixmod.estimators`. It stores the maximum-likelihood estimators for each distribution in a dictionary."
   ]
  },
  {
   "cell_type": "code",
   "execution_count": 18,
   "id": "2d8f678b",
   "metadata": {},
   "outputs": [
    {
     "data": {
      "text/plain": [
       "dict_keys(['binom', 'discrete', 'expon', 'fisk', 'gamma', 'geom', 'laplace', 'levy', 'lognorm', 'norm', 'pareto', 'poisson', 'uniform'])"
      ]
     },
     "execution_count": 18,
     "metadata": {},
     "output_type": "execute_result"
    }
   ],
   "source": [
    "mixmod.estimators.mles.keys()"
   ]
  },
  {
   "cell_type": "markdown",
   "id": "30895d43",
   "metadata": {},
   "source": [
    "Let's now simulate a mixture of exponential, gamma, and normal components and fit a mixture model!"
   ]
  },
  {
   "cell_type": "code",
   "execution_count": 19,
   "id": "2bf2d007",
   "metadata": {},
   "outputs": [
    {
     "data": {
      "image/png": "[encoded data removed]",
      "text/plain": [
       "<Figure size 432x288 with 1 Axes>"
      ]
     },
     "metadata": {
      "needs_background": "light"
     },
     "output_type": "display_data"
    }
   ],
   "source": [
    "rvs0 = stats.expon.rvs(scale=0.5, size=100, random_state=3)\n",
    "rvs1 = stats.gamma.rvs(a=4, scale=2, size=300, random_state=4)\n",
    "rvs2 = stats.norm.rvs(loc=15, scale=0.75, size=200, random_state=5)\n",
    "rvs = np.concatenate([rvs0, rvs1, rvs2])\n",
    "\n",
    "bins = np.linspace(rvs.min(), rvs.max(), num=50)\n",
    "plt.hist(rvs, bins=bins, density=True, facecolor='white', edgecolor='black');"
   ]
  },
  {
   "cell_type": "code",
   "execution_count": 20,
   "id": "6e2fe563",
   "metadata": {},
   "outputs": [
    {
     "data": {
      "text/plain": [
       "MixtureModel(components=['expon', 'gamma', 'norm'],\n",
       "             params=[{}, {}, {}],\n",
       "             params_fix=[{}, {}, {}],\n",
       "             weights=[0.3333333333333333, 0.3333333333333333, 0.3333333333333333],\n",
       "             name='mixture')"
      ]
     },
     "execution_count": 20,
     "metadata": {},
     "output_type": "execute_result"
    }
   ],
   "source": [
    "mixture = mixmod.MixtureModel([stats.expon, stats.gamma, stats.norm])\n",
    "mixture"
   ]
  },
  {
   "cell_type": "code",
   "execution_count": 21,
   "id": "744efc58",
   "metadata": {},
   "outputs": [
    {
     "data": {
      "text/plain": [
       "MixtureModel(components=['expon', 'gamma', 'norm'],\n",
       "             params=[{'scale': 0.44291670356859164}, {'a': 4.179141304968203, 'scale': 2.028108317513398}, {'loc': 15.062120832507192, 'scale': 0.6838831528916532}],\n",
       "             params_fix=[{}, {}, {}],\n",
       "             weights=[0.16719136622829345, 0.520828275024613, 0.3119803587470935],\n",
       "             name='mixture')"
      ]
     },
     "execution_count": 21,
     "metadata": {},
     "output_type": "execute_result"
    }
   ],
   "source": [
    "mixture.fit(rvs)\n",
    "mixture"
   ]
  },
  {
   "cell_type": "code",
   "execution_count": 22,
   "id": "edd5a170",
   "metadata": {},
   "outputs": [
    {
     "data": {
      "image/png": "[encoded data removed]",
      "text/plain": [
       "<Figure size 432x288 with 1 Axes>"
      ]
     },
     "metadata": {
      "needs_background": "light"
     },
     "output_type": "display_data"
    }
   ],
   "source": [
    "x = np.linspace(rvs.min(), rvs.max(), 100)\n",
    "y = mixture.pdf(x, component='all')\n",
    "\n",
    "plt.hist(rvs, bins=bins, density=True, facecolor='white', edgecolor='black')\n",
    "plt.plot(x, y[0], label='component 0', color='C0')\n",
    "plt.plot(x, y[1], label='component 1', color='C1')\n",
    "plt.plot(x, y[2], label='component 2', color='C2')\n",
    "plt.legend(frameon=False, loc='center left', bbox_to_anchor=(1, 0.5));"
   ]
  },
  {
   "cell_type": "markdown",
   "id": "34ae738f",
   "metadata": {},
   "source": [
    "### 2.7 Fitting a zero-inflated discrete MixtureModel\n",
    "\n",
    "Although we've only seen examples of continuous distributions so far, MixMod also supports a number of discrete distributions, including the binomial, Poisson, and geometric distributions. A common application of discrete mixture models is fitting zero-inflated data, *i.e.*, data with an \"excess\" number of zeros. In these cases, the data are often the result of two distinct processes. The first is whatever is creating the \"distribution\" over many values, and the second is something that only generates values of zero. A more concrete (and non-serious) example is the number of colds each person in population catches in year. Most people catch a handful of colds, but some lucky fraction, as a result of either fastidious hygeine or superior genetics, never seem to get sick.\n",
    "\n",
    "Let's model this scenario with a combination of a \"zero\" and a Poisson distribution. We'll exaggerate the parameters to make the contribution of the \"zero\" process obvious."
   ]
  },
  {
   "cell_type": "code",
   "execution_count": 23,
   "id": "35e025df",
   "metadata": {},
   "outputs": [
    {
     "data": {
      "image/png": "[encoded data removed]",
      "text/plain": [
       "<Figure size 432x288 with 1 Axes>"
      ]
     },
     "metadata": {
      "needs_background": "light"
     },
     "output_type": "display_data"
    }
   ],
   "source": [
    "rvs0 = np.zeros(100)\n",
    "rvs1 = stats.poisson.rvs(mu=3, size=400, random_state=6)\n",
    "rvs = np.concatenate([rvs0, rvs1])\n",
    "\n",
    "x, h = np.unique(rvs, return_counts=True)\n",
    "plt.bar(x, h, facecolor='white', edgecolor='black');"
   ]
  },
  {
   "cell_type": "markdown",
   "id": "42f65577",
   "metadata": {},
   "source": [
    "To fit a model to this data, we'll create a MixtureModel instance with the desired components as in previous examples. Unfortunately, SciPy doesn't have an implementation of a \"zero\" distribution, and its implementation of a generic discrete random variable isn't flexible enough for our needs. Thus, we'll have to implement a custom distribution. Fortunately, this is straightforward since we only have to write a `pmf` and `cdf` method. The estimators for this distribution are already available in MixMod, so our implementation will have to match its names for the distribution (`'discrete'`) and parameters (`xs` and `ps`). The code itself is a direct translation of the mathematical definitions of these functions. It only looks a little complicated because it's conforming to SciPy's convention for returning ndarrays by default unless the input is explicitly a \"raw\" number."
   ]
  },
  {
   "cell_type": "code",
   "execution_count": 24,
   "id": "a91d01af",
   "metadata": {},
   "outputs": [],
   "source": [
    "class discrete_gen:\n",
    "    def __init__(self, name):\n",
    "        self.name = name\n",
    "        \n",
    "    def pmf(self, k, xs, ps):\n",
    "        k = np.asarray(k)\n",
    "        output = np.zeros(k.shape)\n",
    "        for x, p in zip(xs, ps):\n",
    "            output[k == x] = p\n",
    "        if output.ndim == 0:\n",
    "            return output[()]\n",
    "        return output\n",
    "    \n",
    "    def cdf(self, k, xs, ps):\n",
    "        k = np.asarray(k)\n",
    "        output = np.zeros(k.shape)\n",
    "        for x, p in zip(xs, ps):\n",
    "            output += p * (x <= k)\n",
    "        if output.ndim == 0:\n",
    "            return output[()]\n",
    "        return output\n",
    "discrete = discrete_gen(name='discrete')"
   ]
  },
  {
   "cell_type": "markdown",
   "id": "7669d80d",
   "metadata": {},
   "source": [
    "Now we're ready to instantiate and fit the model. The \"zero\" component is an instance of the discrete distribution we just defined where `xs` contains a single zero. We pass this as a fixed parameter, so the `fit` method knows which observations can contribute to the component. (An error is raised if a discrete distribution is given as a component without a corresponding fixed `xs`.)"
   ]
  },
  {
   "cell_type": "code",
   "execution_count": 25,
   "id": "b53fc5c9",
   "metadata": {},
   "outputs": [
    {
     "data": {
      "text/plain": [
       "MixtureModel(components=['discrete', 'poisson'],\n",
       "             params=[{}, {}],\n",
       "             params_fix=[{'xs': [0]}, {}],\n",
       "             weights=[0.5, 0.5],\n",
       "             name='mixture')"
      ]
     },
     "execution_count": 25,
     "metadata": {},
     "output_type": "execute_result"
    }
   ],
   "source": [
    "mixture = mixmod.MixtureModel([discrete, stats.poisson],\n",
    "                              params_fix=[{'xs': [0]}, {}])\n",
    "mixture"
   ]
  },
  {
   "cell_type": "code",
   "execution_count": 26,
   "id": "cc728066",
   "metadata": {},
   "outputs": [
    {
     "data": {
      "text/plain": [
       "MixtureModel(components=['discrete', 'poisson'],\n",
       "             params=[{'ps': [1.0]}, {'mu': 3.024078290102476}],\n",
       "             params_fix=[{'xs': [0]}, {}],\n",
       "             weights=[0.20107888479364402, 0.7989211152063559],\n",
       "             name='mixture')"
      ]
     },
     "execution_count": 26,
     "metadata": {},
     "output_type": "execute_result"
    }
   ],
   "source": [
    "mixture.fit(rvs)\n",
    "mixture"
   ]
  },
  {
   "cell_type": "code",
   "execution_count": 27,
   "id": "3293eefe",
   "metadata": {},
   "outputs": [
    {
     "data": {
      "image/png": "[encoded data removed]",
      "text/plain": [
       "<Figure size 432x288 with 1 Axes>"
      ]
     },
     "metadata": {
      "needs_background": "light"
     },
     "output_type": "display_data"
    }
   ],
   "source": [
    "y = mixture.pmf(x, component='all') * h.sum()  # Scale pmf by total number of observations\n",
    "\n",
    "plt.bar(x, h, facecolor='white', edgecolor='black')\n",
    "plt.plot(x, y[0], label='component 0', color='C0')\n",
    "plt.plot(x, y[1], label='component 1', color='C1')\n",
    "plt.legend(frameon=False, loc='center left', bbox_to_anchor=(1, 0.5));"
   ]
  },
  {
   "cell_type": "markdown",
   "id": "a43f140e",
   "metadata": {},
   "source": [
    "The fit looks good! For comparison, though, let's calculate the Poisson parameter if we didn't account for the \"zero\" component at all (\"naive estimation\"), if we dropped the zeros from the data (\"zero-drop estimation\"), and if we knew the labels exactly (\"omniscient estimation\")."
   ]
  },
  {
   "cell_type": "code",
   "execution_count": 28,
   "id": "0434663f",
   "metadata": {},
   "outputs": [
    {
     "name": "stdout",
     "output_type": "stream",
     "text": [
      "Naive estimation:      2.416\n",
      "Zero-drop estimation:  3.1789473684210527\n",
      "Omniscient estimation: 3.02\n",
      "MixMod estimation:     3.024078290102476\n"
     ]
    }
   ],
   "source": [
    "print('Naive estimation:     ', rvs.mean())\n",
    "print('Zero-drop estimation: ', rvs[rvs != 0].mean())\n",
    "print('Omniscient estimation:', rvs1.mean())\n",
    "print('MixMod estimation:    ', mixture.params[1]['mu'])"
   ]
  },
  {
   "cell_type": "markdown",
   "id": "eb5b66fc",
   "metadata": {},
   "source": [
    "The naive method is too low because the excess zeros are bringing the average down, but the zero-drop method is too high because we're excluding some zeros which were generated by the Poisson component. The MixMod estimate, however, is just right!\n",
    "\n",
    "While we originally motivated this example by fitting a constant \"zero\" component, the strength of this implementation  is it is easily extended to an arbitrary discrete distribution. Try modifying it to fit a \"zero and one inflated\" Poisson model!"
   ]
  },
  {
   "cell_type": "markdown",
   "id": "d6f293ff",
   "metadata": {},
   "source": [
    "## 3 Conclusion\n",
    "\n",
    "This brings us to the conclusion of the tutorial. We've covered the major parts of the `MixtureModel` class. There are a few optional arguments and methods we haven't touched on here, but they are straightforward and explained fully in the formal documentation. If you have any questions, please don't hesitate to reach out!"
   ]
  }
 ],
 "metadata": {
  "kernelspec": {
   "display_name": "Python 3 (ipykernel)",
   "language": "python",
   "name": "python3"
  },
  "language_info": {
   "codemirror_mode": {
    "name": "ipython",
    "version": 3
   },
   "file_extension": ".py",
   "mimetype": "text/x-python",
   "name": "python",
   "nbconvert_exporter": "python",
   "pygments_lexer": "ipython3",
   "version": "3.10.6"
  }
 },
 "nbformat": 4,
 "nbformat_minor": 5
}
